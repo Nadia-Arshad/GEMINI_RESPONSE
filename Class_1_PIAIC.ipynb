{
  "nbformat": 4,
  "nbformat_minor": 0,
  "metadata": {
    "colab": {
      "provenance": []
    },
    "kernelspec": {
      "name": "python3",
      "display_name": "Python 3"
    },
    "language_info": {
      "name": "python"
    }
  },
  "cells": [
    {
      "cell_type": "markdown",
      "source": [
        "Installing google-generativeai SDK"
      ],
      "metadata": {
        "id": "RjwSBcY1usDI"
      }
    },
    {
      "cell_type": "code",
      "execution_count": 30,
      "metadata": {
        "collapsed": true,
        "id": "dTuCHcoKhydT"
      },
      "outputs": [],
      "source": [
        "!pip install -U -q google-generativeai"
      ]
    },
    {
      "cell_type": "markdown",
      "source": [
        "Now importing google.generativeai with a nickname/alias \"genai\""
      ],
      "metadata": {
        "id": "Dt29p_Yhu1lm"
      }
    },
    {
      "cell_type": "code",
      "source": [
        "import google.generativeai as genai"
      ],
      "metadata": {
        "id": "CzotD0Hfl7by"
      },
      "execution_count": 31,
      "outputs": []
    },
    {
      "cell_type": "markdown",
      "source": [
        "We're accessing Gemini Key that we fetched from Google AI Studio.\n",
        "Then we configured it using configure method with genai (SDK)"
      ],
      "metadata": {
        "id": "dfcQGTxhu-Ur"
      }
    },
    {
      "cell_type": "code",
      "source": [
        "from google.colab import userdata\n",
        "GEMINI_KEY = userdata.get('NEW_GOOGLE_KEY')\n",
        "genai.configure(api_key = GEMINI_KEY)"
      ],
      "metadata": {
        "id": "qyI06cXqnLJR"
      },
      "execution_count": 32,
      "outputs": []
    },
    {
      "cell_type": "markdown",
      "source": [
        "Now we are storing our prompts and responses in a list called \"history\"."
      ],
      "metadata": {
        "id": "9erte1ekvLJq"
      }
    },
    {
      "cell_type": "code",
      "source": [
        "model = genai.GenerativeModel(\"gemini-2.0-flash-exp\")\n",
        "memory = model.start_chat(history=[])\n",
        "response = memory.send_message(\"Hi, my name is Shamsa.\")\n",
        "print(response.text)\n",
        "response = memory.send_message(\"What is my name?\")\n",
        "print(memory.history)"
      ],
      "metadata": {
        "colab": {
          "base_uri": "https://localhost:8080/",
          "height": 367
        },
        "id": "wqzPq-Kwncuk",
        "outputId": "42fdd570-df58-427c-ed3c-1023ef0cc411"
      },
      "execution_count": 33,
      "outputs": [
        {
          "output_type": "stream",
          "name": "stdout",
          "text": [
            "Hi Shamsa, it's nice to meet you! I'm a large language model, and I'm here to help you with whatever you need. Is there anything I can do for you today?\n",
            "\n",
            "[parts {\n",
            "  text: \"Hi, my name is Shamsa.\"\n",
            "}\n",
            "role: \"user\"\n",
            ", parts {\n",
            "  text: \"Hi Shamsa, it\\'s nice to meet you! I\\'m a large language model, and I\\'m here to help you with whatever you need. Is there anything I can do for you today?\\n\"\n",
            "}\n",
            "role: \"model\"\n",
            ", parts {\n",
            "  text: \"What is my name?\"\n",
            "}\n",
            "role: \"user\"\n",
            ", parts {\n",
            "  text: \"Your name is Shamsa. You told me that a moment ago. 😊\\n\"\n",
            "}\n",
            "role: \"model\"\n",
            "]\n"
          ]
        }
      ]
    },
    {
      "cell_type": "code",
      "source": [
        "\n",
        "model = genai.GenerativeModel(\n",
        "    model_name = \"gemini-2.0-flash-exp\",\n",
        "    generation_config=genai.GenerationConfig(\n",
        "    temperature=0.9,\n",
        "    top_p=0.95,\n",
        "    max_output_tokens=100,\n",
        "    ))\n",
        "\n"
      ],
      "metadata": {
        "id": "GUxjotz3RqIL"
      },
      "execution_count": 38,
      "outputs": []
    },
    {
      "cell_type": "code",
      "source": [
        "response = model.generate_content(\"What is a frog?\")\n",
        "print(response.text)"
      ],
      "metadata": {
        "colab": {
          "base_uri": "https://localhost:8080/",
          "height": 193
        },
        "id": "UVP4FkWPTxzi",
        "outputId": "0993e6b8-86a3-4b9d-d7fc-99a295adb0da"
      },
      "execution_count": 39,
      "outputs": [
        {
          "output_type": "stream",
          "name": "stdout",
          "text": [
            "Okay, let's break down what a frog is! Here's a comprehensive explanation:\n",
            "\n",
            "**At its core, a frog is an amphibian, meaning it lives both in water and on land.** They are cold-blooded vertebrates, which means they don't generate their own body heat and have a backbone.\n",
            "\n",
            "Here's a more detailed look at their characteristics:\n",
            "\n",
            "**Key Characteristics of Frogs:**\n",
            "\n",
            "* **Amphibian Life Cycle:** This is a defining feature\n"
          ]
        }
      ]
    },
    {
      "cell_type": "code",
      "source": [
        "# dir(model)"
      ],
      "metadata": {
        "collapsed": true,
        "id": "AVcjofpyUdRQ"
      },
      "execution_count": 40,
      "outputs": []
    },
    {
      "cell_type": "markdown",
      "source": [
        "Now we're storing our model's response in the variable \"response\" by using generate_content method and passing our prompt as an attribute."
      ],
      "metadata": {
        "id": "ts06-IUdvcig"
      }
    },
    {
      "cell_type": "code",
      "source": [
        "response = model.generate_content(\"What is life?\")"
      ],
      "metadata": {
        "id": "U1fMCnLGny6r"
      },
      "execution_count": 41,
      "outputs": []
    },
    {
      "cell_type": "markdown",
      "source": [
        "Now we are printing our response."
      ],
      "metadata": {
        "id": "pibAlyl5vp7g"
      }
    },
    {
      "cell_type": "code",
      "source": [
        "print(response)"
      ],
      "metadata": {
        "colab": {
          "base_uri": "https://localhost:8080/"
        },
        "id": "HyLQFI4erDvH",
        "outputId": "866458df-80d0-4a0e-cd6c-4cb7be3ced35"
      },
      "execution_count": 42,
      "outputs": [
        {
          "output_type": "stream",
          "name": "stdout",
          "text": [
            "response:\n",
            "GenerateContentResponse(\n",
            "    done=True,\n",
            "    iterator=None,\n",
            "    result=protos.GenerateContentResponse({\n",
            "      \"candidates\": [\n",
            "        {\n",
            "          \"content\": {\n",
            "            \"parts\": [\n",
            "              {\n",
            "                \"text\": \"That's the big question, isn't it? There's no single, universally accepted definition of life, and it's something that scientists, philosophers, and individuals have pondered for centuries. Here's a breakdown of different ways to approach the question, and some common ideas:\\n\\n**Scientific Perspectives:**\\n\\nFrom a biological standpoint, life is typically defined by a set of characteristics that distinguish living organisms from non-living matter. These characteristics often include:\\n\\n* **Organization:** Living\"\n",
            "              }\n",
            "            ],\n",
            "            \"role\": \"model\"\n",
            "          },\n",
            "          \"finish_reason\": \"MAX_TOKENS\",\n",
            "          \"safety_ratings\": [\n",
            "            {\n",
            "              \"category\": \"HARM_CATEGORY_HATE_SPEECH\",\n",
            "              \"probability\": \"NEGLIGIBLE\"\n",
            "            },\n",
            "            {\n",
            "              \"category\": \"HARM_CATEGORY_DANGEROUS_CONTENT\",\n",
            "              \"probability\": \"NEGLIGIBLE\"\n",
            "            },\n",
            "            {\n",
            "              \"category\": \"HARM_CATEGORY_HARASSMENT\",\n",
            "              \"probability\": \"NEGLIGIBLE\"\n",
            "            },\n",
            "            {\n",
            "              \"category\": \"HARM_CATEGORY_SEXUALLY_EXPLICIT\",\n",
            "              \"probability\": \"NEGLIGIBLE\"\n",
            "            }\n",
            "          ],\n",
            "          \"avg_logprobs\": -0.31981632232666013\n",
            "        }\n",
            "      ],\n",
            "      \"usage_metadata\": {\n",
            "        \"prompt_token_count\": 5,\n",
            "        \"candidates_token_count\": 100,\n",
            "        \"total_token_count\": 105\n",
            "      }\n",
            "    }),\n",
            ")\n"
          ]
        }
      ]
    },
    {
      "cell_type": "markdown",
      "source": [
        "Here we are printing our response in plain text form."
      ],
      "metadata": {
        "id": "izNE3JuBvt4V"
      }
    },
    {
      "cell_type": "code",
      "source": [
        "print(response.text)"
      ],
      "metadata": {
        "colab": {
          "base_uri": "https://localhost:8080/"
        },
        "id": "TIs5jynZvyAR",
        "outputId": "4a3c54e8-7aef-4b69-e20e-c0c3ca6cf262"
      },
      "execution_count": 43,
      "outputs": [
        {
          "output_type": "stream",
          "name": "stdout",
          "text": [
            "That's the big question, isn't it? There's no single, universally accepted definition of life, and it's something that scientists, philosophers, and individuals have pondered for centuries. Here's a breakdown of different ways to approach the question, and some common ideas:\n",
            "\n",
            "**Scientific Perspectives:**\n",
            "\n",
            "From a biological standpoint, life is typically defined by a set of characteristics that distinguish living organisms from non-living matter. These characteristics often include:\n",
            "\n",
            "* **Organization:** Living\n"
          ]
        }
      ]
    },
    {
      "cell_type": "markdown",
      "source": [
        "Now we are experimenting with a few things we discovered."
      ],
      "metadata": {
        "id": "WPSrafX7v24w"
      }
    },
    {
      "cell_type": "code",
      "source": [
        "print(response.usage_metadata.prompt_token_count)"
      ],
      "metadata": {
        "colab": {
          "base_uri": "https://localhost:8080/"
        },
        "id": "fVzx6X2UrkrD",
        "outputId": "35bfa350-8308-418c-aeaa-29451616399e"
      },
      "execution_count": 44,
      "outputs": [
        {
          "output_type": "stream",
          "name": "stdout",
          "text": [
            "5\n"
          ]
        }
      ]
    },
    {
      "cell_type": "code",
      "source": [
        "dir(model)"
      ],
      "metadata": {
        "colab": {
          "base_uri": "https://localhost:8080/"
        },
        "id": "i6NVoDsQUPmp",
        "outputId": "53b5f6fb-ec23-45d4-f694-4ec4057c8df8"
      },
      "execution_count": 45,
      "outputs": [
        {
          "output_type": "execute_result",
          "data": {
            "text/plain": [
              "['__class__',\n",
              " '__delattr__',\n",
              " '__dict__',\n",
              " '__dir__',\n",
              " '__doc__',\n",
              " '__eq__',\n",
              " '__format__',\n",
              " '__ge__',\n",
              " '__getattribute__',\n",
              " '__getstate__',\n",
              " '__gt__',\n",
              " '__hash__',\n",
              " '__init__',\n",
              " '__init_subclass__',\n",
              " '__le__',\n",
              " '__lt__',\n",
              " '__module__',\n",
              " '__ne__',\n",
              " '__new__',\n",
              " '__reduce__',\n",
              " '__reduce_ex__',\n",
              " '__repr__',\n",
              " '__setattr__',\n",
              " '__sizeof__',\n",
              " '__str__',\n",
              " '__subclasshook__',\n",
              " '__weakref__',\n",
              " '_async_client',\n",
              " '_client',\n",
              " '_generation_config',\n",
              " '_get_tools_lib',\n",
              " '_model_name',\n",
              " '_prepare_request',\n",
              " '_safety_settings',\n",
              " '_system_instruction',\n",
              " '_tool_config',\n",
              " '_tools',\n",
              " 'cached_content',\n",
              " 'count_tokens',\n",
              " 'count_tokens_async',\n",
              " 'from_cached_content',\n",
              " 'generate_content',\n",
              " 'generate_content_async',\n",
              " 'model_name',\n",
              " 'start_chat']"
            ]
          },
          "metadata": {},
          "execution_count": 45
        }
      ]
    },
    {
      "cell_type": "code",
      "source": [
        "dir(genai)"
      ],
      "metadata": {
        "colab": {
          "base_uri": "https://localhost:8080/"
        },
        "id": "8UfQ4hpKsw8t",
        "outputId": "8ef0a3f5-5a90-4c32-9b1d-fd4ac86d060e"
      },
      "execution_count": 46,
      "outputs": [
        {
          "output_type": "execute_result",
          "data": {
            "text/plain": [
              "['ChatSession',\n",
              " 'GenerationConfig',\n",
              " 'GenerativeModel',\n",
              " '__builtins__',\n",
              " '__cached__',\n",
              " '__doc__',\n",
              " '__file__',\n",
              " '__loader__',\n",
              " '__name__',\n",
              " '__package__',\n",
              " '__path__',\n",
              " '__spec__',\n",
              " '__version__',\n",
              " 'annotations',\n",
              " 'caching',\n",
              " 'configure',\n",
              " 'create_tuned_model',\n",
              " 'delete_file',\n",
              " 'delete_tuned_model',\n",
              " 'embed_content',\n",
              " 'embed_content_async',\n",
              " 'get_base_model',\n",
              " 'get_file',\n",
              " 'get_model',\n",
              " 'get_operation',\n",
              " 'get_tuned_model',\n",
              " 'list_files',\n",
              " 'list_models',\n",
              " 'list_operations',\n",
              " 'list_tuned_models',\n",
              " 'protos',\n",
              " 'responder',\n",
              " 'string_utils',\n",
              " 'types',\n",
              " 'update_tuned_model',\n",
              " 'upload_file',\n",
              " 'utils']"
            ]
          },
          "metadata": {},
          "execution_count": 46
        }
      ]
    },
    {
      "cell_type": "markdown",
      "source": [],
      "metadata": {
        "id": "awCYHjKsjOYt"
      }
    },
    {
      "cell_type": "code",
      "source": [
        "dir(genai.list_models)"
      ],
      "metadata": {
        "colab": {
          "base_uri": "https://localhost:8080/"
        },
        "id": "uXUriRfItGcb",
        "outputId": "ac0e5ba9-f4c3-462c-da09-0cb1ca212acb"
      },
      "execution_count": 47,
      "outputs": [
        {
          "output_type": "execute_result",
          "data": {
            "text/plain": [
              "['__annotations__',\n",
              " '__builtins__',\n",
              " '__call__',\n",
              " '__class__',\n",
              " '__closure__',\n",
              " '__code__',\n",
              " '__defaults__',\n",
              " '__delattr__',\n",
              " '__dict__',\n",
              " '__dir__',\n",
              " '__doc__',\n",
              " '__eq__',\n",
              " '__format__',\n",
              " '__ge__',\n",
              " '__get__',\n",
              " '__getattribute__',\n",
              " '__getstate__',\n",
              " '__globals__',\n",
              " '__gt__',\n",
              " '__hash__',\n",
              " '__init__',\n",
              " '__init_subclass__',\n",
              " '__kwdefaults__',\n",
              " '__le__',\n",
              " '__lt__',\n",
              " '__module__',\n",
              " '__name__',\n",
              " '__ne__',\n",
              " '__new__',\n",
              " '__qualname__',\n",
              " '__reduce__',\n",
              " '__reduce_ex__',\n",
              " '__repr__',\n",
              " '__setattr__',\n",
              " '__sizeof__',\n",
              " '__str__',\n",
              " '__subclasshook__']"
            ]
          },
          "metadata": {},
          "execution_count": 47
        }
      ]
    },
    {
      "cell_type": "code",
      "source": [],
      "metadata": {
        "id": "fwUq3LUCtLGS"
      },
      "execution_count": null,
      "outputs": []
    }
  ]
}